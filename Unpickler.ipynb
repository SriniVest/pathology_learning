{
 "cells": [
  {
   "cell_type": "code",
   "execution_count": 14,
   "metadata": {},
   "outputs": [],
   "source": [
    "import pickle\n",
    "\n",
    "\n",
    "vgg_file = 'processing/dense256/vgg11_n_dict.pickle'\n",
    "resnet_file = 'processing/dense256/resnet18_n_dict.pickle'\n",
    "with open(vgg_file, 'rb') as f:\n",
    "    # The protocol version used is detected automatically, so we do not\n",
    "    # have to specify it.\n",
    "    vgg_data = pickle.load(f)\n",
    "\n",
    "with open(resnet_file, 'rb') as f:\n",
    "    # The protocol version used is detected automatically, so we do not\n",
    "    # have to specify it.\n",
    "    resnet_data = pickle.load(f)\n"
   ]
  },
  {
   "cell_type": "code",
   "execution_count": 15,
   "metadata": {},
   "outputs": [
    {
     "name": "stdout",
     "output_type": "stream",
     "text": [
      "VGG\n",
      "__________________\n",
      "|TP:tensor(620., dtype=torch.float64, device='cuda:0') | FN: tensor(106., dtype=torch.float64, device='cuda:0')|\n",
      "-----------------\n",
      "|FP:tensor(50., dtype=torch.float64, device='cuda:0') | TN: tensor(994., dtype=torch.float64, device='cuda:0')|\n",
      "__________________\n",
      "Precision: tensor(0.9254, dtype=torch.float64, device='cuda:0') Recall: tensor(0.3841, dtype=torch.float64, device='cuda:0')\n",
      "__________________\n",
      "positivestensor(670, device='cuda:0')\n",
      "correctstensor(1614, device='cuda:0')\n",
      "RESNET\n",
      "__________________\n",
      "|TP:tensor(604., dtype=torch.float64, device='cuda:0') | FN: tensor(93., dtype=torch.float64, device='cuda:0')|\n",
      "-----------------\n",
      "|FP:tensor(66., dtype=torch.float64, device='cuda:0') | TN: tensor(1007., dtype=torch.float64, device='cuda:0')|\n",
      "__________________\n",
      "Precision: tensor(0.9015, dtype=torch.float64, device='cuda:0') Recall: tensor(0.3749, dtype=torch.float64, device='cuda:0')\n",
      "__________________\n",
      "positivestensor(670, device='cuda:0')\n",
      "correctstensor(1611, device='cuda:0')\n"
     ]
    }
   ],
   "source": [
    "def printConfusionMatrix(dc):\n",
    "    print('__________________')\n",
    "    print('|TP:' + str(dc['TP']) + \" | FN: \"+str(dc['FN']) + \"|\" )\n",
    "    print('-----------------')\n",
    "    print('|FP:' + str(dc['FP']) + \" | TN: \"+str(dc['TN']) + \"|\" )\n",
    "    print('__________________')\n",
    "    precision = dc['TP']  / float(dc['TP']+ dc['FP'])\n",
    "    recall = dc['TP'] / float(dc['TP'] + dc['TN'])\n",
    "    print('Precision: ' + str(precision) + \" Recall: \" + str(recall))\n",
    "    print('__________________')\n",
    "    print('positives' + str(dc['positives']))\n",
    "    print('corrects' + str(dc['corrects']))\n",
    "\n",
    "print('VGG')\n",
    "printConfusionMatrix(vgg_data['best_confusion'])\n",
    "print('RESNET')\n",
    "printConfusionMatrix(resnet_data['best_confusion'])\n"
   ]
  },
  {
   "cell_type": "code",
   "execution_count": 11,
   "metadata": {},
   "outputs": [
    {
     "data": {
      "text/plain": [
       "{'best_acc': tensor(0.9559, dtype=torch.float64, device='cuda:0'),\n",
       " 'best_confusion': {'FN': tensor(33., dtype=torch.float64, device='cuda:0'),\n",
       "  'FP': tensor(45., dtype=torch.float64, device='cuda:0'),\n",
       "  'TN': tensor(1067., dtype=torch.float64, device='cuda:0'),\n",
       "  'TP': tensor(625., dtype=torch.float64, device='cuda:0'),\n",
       "  'corrects': tensor(1692, device='cuda:0'),\n",
       "  'positives': tensor(670, device='cuda:0')},\n",
       " 'train_confusion': [{'FN': tensor(959., dtype=torch.float64, device='cuda:0'),\n",
       "   'FP': tensor(1562., dtype=torch.float64, device='cuda:0'),\n",
       "   'TN': tensor(9479., dtype=torch.float64, device='cuda:0'),\n",
       "   'TP': tensor(4963., dtype=torch.float64, device='cuda:0'),\n",
       "   'corrects': tensor(14442, device='cuda:0'),\n",
       "   'positives': tensor(6525, device='cuda:0')},\n",
       "  {'FN': tensor(609., dtype=torch.float64, device='cuda:0'),\n",
       "   'FP': tensor(1120., dtype=torch.float64, device='cuda:0'),\n",
       "   'TN': tensor(9829., dtype=torch.float64, device='cuda:0'),\n",
       "   'TP': tensor(5405., dtype=torch.float64, device='cuda:0'),\n",
       "   'corrects': tensor(15234, device='cuda:0'),\n",
       "   'positives': tensor(6525, device='cuda:0')},\n",
       "  {'FN': tensor(540., dtype=torch.float64, device='cuda:0'),\n",
       "   'FP': tensor(1000., dtype=torch.float64, device='cuda:0'),\n",
       "   'TN': tensor(9898., dtype=torch.float64, device='cuda:0'),\n",
       "   'TP': tensor(5525., dtype=torch.float64, device='cuda:0'),\n",
       "   'corrects': tensor(15423, device='cuda:0'),\n",
       "   'positives': tensor(6525, device='cuda:0')},\n",
       "  {'FN': tensor(466., dtype=torch.float64, device='cuda:0'),\n",
       "   'FP': tensor(949., dtype=torch.float64, device='cuda:0'),\n",
       "   'TN': tensor(9972., dtype=torch.float64, device='cuda:0'),\n",
       "   'TP': tensor(5576., dtype=torch.float64, device='cuda:0'),\n",
       "   'corrects': tensor(15548, device='cuda:0'),\n",
       "   'positives': tensor(6525, device='cuda:0')},\n",
       "  {'FN': tensor(429., dtype=torch.float64, device='cuda:0'),\n",
       "   'FP': tensor(927., dtype=torch.float64, device='cuda:0'),\n",
       "   'TN': tensor(10009., dtype=torch.float64, device='cuda:0'),\n",
       "   'TP': tensor(5598., dtype=torch.float64, device='cuda:0'),\n",
       "   'corrects': tensor(15607, device='cuda:0'),\n",
       "   'positives': tensor(6525, device='cuda:0')}],\n",
       " 'train_loss': [],\n",
       " 'val_confusion': [{'FN': tensor(122., dtype=torch.float64, device='cuda:0'),\n",
       "   'FP': tensor(43., dtype=torch.float64, device='cuda:0'),\n",
       "   'TN': tensor(978., dtype=torch.float64, device='cuda:0'),\n",
       "   'TP': tensor(627., dtype=torch.float64, device='cuda:0'),\n",
       "   'corrects': tensor(1605, device='cuda:0'),\n",
       "   'positives': tensor(670, device='cuda:0')},\n",
       "  {'FN': tensor(205., dtype=torch.float64, device='cuda:0'),\n",
       "   'FP': tensor(39., dtype=torch.float64, device='cuda:0'),\n",
       "   'TN': tensor(895., dtype=torch.float64, device='cuda:0'),\n",
       "   'TP': tensor(631., dtype=torch.float64, device='cuda:0'),\n",
       "   'corrects': tensor(1526, device='cuda:0'),\n",
       "   'positives': tensor(670, device='cuda:0')},\n",
       "  {'FN': tensor(173., dtype=torch.float64, device='cuda:0'),\n",
       "   'FP': tensor(40., dtype=torch.float64, device='cuda:0'),\n",
       "   'TN': tensor(927., dtype=torch.float64, device='cuda:0'),\n",
       "   'TP': tensor(630., dtype=torch.float64, device='cuda:0'),\n",
       "   'corrects': tensor(1557, device='cuda:0'),\n",
       "   'positives': tensor(670, device='cuda:0')},\n",
       "  {'FN': tensor(63., dtype=torch.float64, device='cuda:0'),\n",
       "   'FP': tensor(42., dtype=torch.float64, device='cuda:0'),\n",
       "   'TN': tensor(1037., dtype=torch.float64, device='cuda:0'),\n",
       "   'TP': tensor(628., dtype=torch.float64, device='cuda:0'),\n",
       "   'corrects': tensor(1665, device='cuda:0'),\n",
       "   'positives': tensor(670, device='cuda:0')},\n",
       "  {'FN': tensor(33., dtype=torch.float64, device='cuda:0'),\n",
       "   'FP': tensor(45., dtype=torch.float64, device='cuda:0'),\n",
       "   'TN': tensor(1067., dtype=torch.float64, device='cuda:0'),\n",
       "   'TP': tensor(625., dtype=torch.float64, device='cuda:0'),\n",
       "   'corrects': tensor(1692, device='cuda:0'),\n",
       "   'positives': tensor(670, device='cuda:0')}],\n",
       " 'val_loss': [245.3289155960083]}"
      ]
     },
     "execution_count": 11,
     "metadata": {},
     "output_type": "execute_result"
    }
   ],
   "source": [
    "vgg_data\n"
   ]
  },
  {
   "cell_type": "code",
   "execution_count": null,
   "metadata": {},
   "outputs": [],
   "source": []
  }
 ],
 "metadata": {
  "kernelspec": {
   "display_name": "Python 3",
   "language": "python",
   "name": "python3"
  },
  "language_info": {
   "codemirror_mode": {
    "name": "ipython",
    "version": 3
   },
   "file_extension": ".py",
   "mimetype": "text/x-python",
   "name": "python",
   "nbconvert_exporter": "python",
   "pygments_lexer": "ipython3",
   "version": "3.6.4"
  }
 },
 "nbformat": 4,
 "nbformat_minor": 2
}
