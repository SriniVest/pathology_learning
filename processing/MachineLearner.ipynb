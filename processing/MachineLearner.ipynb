{
 "cells": [
  {
   "cell_type": "code",
   "execution_count": 2,
   "metadata": {},
   "outputs": [],
   "source": [
    "import pickle\n",
    "import pandas as pd\n",
    "lgg_data = pd.read_pickle(\"../tcga/dense_features/lgg_features_v1.pkl\")"
   ]
  },
  {
   "cell_type": "code",
   "execution_count": null,
   "metadata": {},
   "outputs": [],
   "source": []
  },
  {
   "cell_type": "code",
   "execution_count": 3,
   "metadata": {},
   "outputs": [],
   "source": [
    "tumor_type = 'gbm'\n",
    "filename = '../tcga/dense_features/'+tumor_type + '_list_v1.pkl'\n",
    "with open(filename, 'rb') as f:\n",
    "    newlist = pickle.load(f)\n",
    "    \n",
    "flat_list = [item.T for sublist in newlist for item in sublist]\n",
    "#a = [pd.concat(sublist) for sublist in newlist]\n",
    "#gbm_data = pd.concat(flat_list)\n",
    "c = pd.concat(flat_list, keys=['Size.Area, Size.MajorAxisLength, Size.MinorAxisLength',\\\n",
    "         'Size.Perimter',  'Shape.Circularity', 'Shape.Eccentricity',\\\n",
    "        'Shape.EquivalentDiameter', 'Shape.Extent', 'Shape.MinorMajorAxisRatio',\\\n",
    "        'Shape.Solidity', 'Age (years at diagnosis)', 'Gender'])"
   ]
  },
  {
   "cell_type": "code",
   "execution_count": 4,
   "metadata": {},
   "outputs": [],
   "source": [
    "ar = [df.loc[:,~df.columns.duplicated()] for df in flat_list]"
   ]
  },
  {
   "cell_type": "code",
   "execution_count": 5,
   "metadata": {},
   "outputs": [
    {
     "data": {
      "text/plain": [
       "(7154, 19)"
      ]
     },
     "execution_count": 5,
     "metadata": {},
     "output_type": "execute_result"
    }
   ],
   "source": [
    "lgg_data.shape"
   ]
  },
  {
   "cell_type": "code",
   "execution_count": 6,
   "metadata": {},
   "outputs": [],
   "source": [
    "tumor_type = 'gbm'\n",
    "filename = '../tcga/dense_features/'+tumor_type + '_list_v2.pkl'\n",
    "with open(filename, 'rb') as f:\n",
    "    newlist = pickle.load(f)\n",
    "    \n",
    "flat_list = [item.T for sublist in newlist for item in sublist]\n",
    "#a = [pd.concat(sublist) for sublist in newlist]\n",
    "#gbm_data = pd.concat(flat_list)\n",
    "\n",
    "d = pd.concat(flat_list, keys=['Size.Area, Size.MajorAxisLength, Size.MinorAxisLength',\\\n",
    "         'Size.Perimter',  'Shape.Circularity', 'Shape.Eccentricity',\\\n",
    "        'Shape.EquivalentDiameter', 'Shape.Extent', 'Shape.MinorMajorAxisRatio',\\\n",
    "        'Shape.Solidity', 'Age (years at diagnosis)', 'Gender'])"
   ]
  },
  {
   "cell_type": "code",
   "execution_count": 7,
   "metadata": {},
   "outputs": [
    {
     "data": {
      "text/html": [
       "<div>\n",
       "<style scoped>\n",
       "    .dataframe tbody tr th:only-of-type {\n",
       "        vertical-align: middle;\n",
       "    }\n",
       "\n",
       "    .dataframe tbody tr th {\n",
       "        vertical-align: top;\n",
       "    }\n",
       "\n",
       "    .dataframe thead th {\n",
       "        text-align: right;\n",
       "    }\n",
       "</style>\n",
       "<table border=\"1\" class=\"dataframe\">\n",
       "  <thead>\n",
       "    <tr style=\"text-align: right;\">\n",
       "      <th></th>\n",
       "      <th></th>\n",
       "      <th>Size.Area</th>\n",
       "      <th>Size.MajorAxisLength</th>\n",
       "      <th>Size.MinorAxisLength</th>\n",
       "      <th>Size.Perimeter</th>\n",
       "      <th>Shape.Circularity</th>\n",
       "      <th>Shape.Eccentricity</th>\n",
       "      <th>Shape.EquivalentDiameter</th>\n",
       "      <th>Shape.Extent</th>\n",
       "      <th>Shape.MinorMajorAxisRatio</th>\n",
       "      <th>Shape.Solidity</th>\n",
       "      <th>...</th>\n",
       "      <th>IntensityAverage</th>\n",
       "      <th>RatioStrongToTotal</th>\n",
       "      <th>IntensityAverageWeakAndPositive</th>\n",
       "      <th>Case</th>\n",
       "      <th>Grade</th>\n",
       "      <th>Age (years at diagnosis)</th>\n",
       "      <th>Gender</th>\n",
       "      <th>Survival (months)</th>\n",
       "      <th>Vital status (1=dead)</th>\n",
       "      <th>MGMT promoter status</th>\n",
       "    </tr>\n",
       "  </thead>\n",
       "  <tbody>\n",
       "    <tr>\n",
       "      <th>Shape.Extent</th>\n",
       "      <th>0</th>\n",
       "      <td>2517.96</td>\n",
       "      <td>62.9641</td>\n",
       "      <td>40.3482</td>\n",
       "      <td>243.845</td>\n",
       "      <td>0.584476</td>\n",
       "      <td>0.739642</td>\n",
       "      <td>46.2136</td>\n",
       "      <td>0.530924</td>\n",
       "      <td>0.629435</td>\n",
       "      <td>0.769842</td>\n",
       "      <td>...</td>\n",
       "      <td>0.851188</td>\n",
       "      <td>0</td>\n",
       "      <td>0.851188</td>\n",
       "      <td>TCGA-02-0003</td>\n",
       "      <td>4</td>\n",
       "      <td>50</td>\n",
       "      <td>1</td>\n",
       "      <td>4.73111</td>\n",
       "      <td>1</td>\n",
       "      <td>0</td>\n",
       "    </tr>\n",
       "    <tr>\n",
       "      <th>Shape.MinorMajorAxisRatio</th>\n",
       "      <th>0</th>\n",
       "      <td>1854.36</td>\n",
       "      <td>64.5691</td>\n",
       "      <td>42.2071</td>\n",
       "      <td>349.776</td>\n",
       "      <td>0.271336</td>\n",
       "      <td>0.722891</td>\n",
       "      <td>41.1683</td>\n",
       "      <td>0.363899</td>\n",
       "      <td>0.649102</td>\n",
       "      <td>0.532551</td>\n",
       "      <td>...</td>\n",
       "      <td>0.862302</td>\n",
       "      <td>0</td>\n",
       "      <td>0.862302</td>\n",
       "      <td>TCGA-02-0003</td>\n",
       "      <td>4</td>\n",
       "      <td>50</td>\n",
       "      <td>1</td>\n",
       "      <td>4.73111</td>\n",
       "      <td>1</td>\n",
       "      <td>0</td>\n",
       "    </tr>\n",
       "    <tr>\n",
       "      <th>Shape.Solidity</th>\n",
       "      <th>0</th>\n",
       "      <td>2121.98</td>\n",
       "      <td>56.1861</td>\n",
       "      <td>34.4433</td>\n",
       "      <td>207.775</td>\n",
       "      <td>0.624486</td>\n",
       "      <td>0.759808</td>\n",
       "      <td>39.6487</td>\n",
       "      <td>0.509705</td>\n",
       "      <td>0.596614</td>\n",
       "      <td>0.744714</td>\n",
       "      <td>...</td>\n",
       "      <td>0.869281</td>\n",
       "      <td>0</td>\n",
       "      <td>0.869281</td>\n",
       "      <td>TCGA-02-0003</td>\n",
       "      <td>4</td>\n",
       "      <td>50</td>\n",
       "      <td>1</td>\n",
       "      <td>4.73111</td>\n",
       "      <td>1</td>\n",
       "      <td>0</td>\n",
       "    </tr>\n",
       "    <tr>\n",
       "      <th>Age (years at diagnosis)</th>\n",
       "      <th>0</th>\n",
       "      <td>2614.74</td>\n",
       "      <td>59.1224</td>\n",
       "      <td>29.8649</td>\n",
       "      <td>237.097</td>\n",
       "      <td>0.578236</td>\n",
       "      <td>0.807699</td>\n",
       "      <td>35.5097</td>\n",
       "      <td>0.420023</td>\n",
       "      <td>0.533576</td>\n",
       "      <td>0.630865</td>\n",
       "      <td>...</td>\n",
       "      <td>0.842484</td>\n",
       "      <td>0</td>\n",
       "      <td>0.842484</td>\n",
       "      <td>TCGA-02-0003</td>\n",
       "      <td>4</td>\n",
       "      <td>50</td>\n",
       "      <td>1</td>\n",
       "      <td>4.73111</td>\n",
       "      <td>1</td>\n",
       "      <td>0</td>\n",
       "    </tr>\n",
       "    <tr>\n",
       "      <th>Gender</th>\n",
       "      <th>0</th>\n",
       "      <td>3220.49</td>\n",
       "      <td>77.7404</td>\n",
       "      <td>49.4169</td>\n",
       "      <td>336.795</td>\n",
       "      <td>0.418012</td>\n",
       "      <td>0.737868</td>\n",
       "      <td>55.2959</td>\n",
       "      <td>0.477613</td>\n",
       "      <td>0.635205</td>\n",
       "      <td>0.691263</td>\n",
       "      <td>...</td>\n",
       "      <td>0.827589</td>\n",
       "      <td>0</td>\n",
       "      <td>0.827589</td>\n",
       "      <td>TCGA-02-0003</td>\n",
       "      <td>4</td>\n",
       "      <td>50</td>\n",
       "      <td>1</td>\n",
       "      <td>4.73111</td>\n",
       "      <td>1</td>\n",
       "      <td>0</td>\n",
       "    </tr>\n",
       "  </tbody>\n",
       "</table>\n",
       "<p>5 rows × 28 columns</p>\n",
       "</div>"
      ],
      "text/plain": [
       "                            Size.Area Size.MajorAxisLength  \\\n",
       "Shape.Extent              0   2517.96              62.9641   \n",
       "Shape.MinorMajorAxisRatio 0   1854.36              64.5691   \n",
       "Shape.Solidity            0   2121.98              56.1861   \n",
       "Age (years at diagnosis)  0   2614.74              59.1224   \n",
       "Gender                    0   3220.49              77.7404   \n",
       "\n",
       "                            Size.MinorAxisLength Size.Perimeter  \\\n",
       "Shape.Extent              0              40.3482        243.845   \n",
       "Shape.MinorMajorAxisRatio 0              42.2071        349.776   \n",
       "Shape.Solidity            0              34.4433        207.775   \n",
       "Age (years at diagnosis)  0              29.8649        237.097   \n",
       "Gender                    0              49.4169        336.795   \n",
       "\n",
       "                            Shape.Circularity Shape.Eccentricity  \\\n",
       "Shape.Extent              0          0.584476           0.739642   \n",
       "Shape.MinorMajorAxisRatio 0          0.271336           0.722891   \n",
       "Shape.Solidity            0          0.624486           0.759808   \n",
       "Age (years at diagnosis)  0          0.578236           0.807699   \n",
       "Gender                    0          0.418012           0.737868   \n",
       "\n",
       "                            Shape.EquivalentDiameter Shape.Extent  \\\n",
       "Shape.Extent              0                  46.2136     0.530924   \n",
       "Shape.MinorMajorAxisRatio 0                  41.1683     0.363899   \n",
       "Shape.Solidity            0                  39.6487     0.509705   \n",
       "Age (years at diagnosis)  0                  35.5097     0.420023   \n",
       "Gender                    0                  55.2959     0.477613   \n",
       "\n",
       "                            Shape.MinorMajorAxisRatio Shape.Solidity  \\\n",
       "Shape.Extent              0                  0.629435       0.769842   \n",
       "Shape.MinorMajorAxisRatio 0                  0.649102       0.532551   \n",
       "Shape.Solidity            0                  0.596614       0.744714   \n",
       "Age (years at diagnosis)  0                  0.533576       0.630865   \n",
       "Gender                    0                  0.635205       0.691263   \n",
       "\n",
       "                                    ...          IntensityAverage  \\\n",
       "Shape.Extent              0         ...                  0.851188   \n",
       "Shape.MinorMajorAxisRatio 0         ...                  0.862302   \n",
       "Shape.Solidity            0         ...                  0.869281   \n",
       "Age (years at diagnosis)  0         ...                  0.842484   \n",
       "Gender                    0         ...                  0.827589   \n",
       "\n",
       "                            RatioStrongToTotal  \\\n",
       "Shape.Extent              0                  0   \n",
       "Shape.MinorMajorAxisRatio 0                  0   \n",
       "Shape.Solidity            0                  0   \n",
       "Age (years at diagnosis)  0                  0   \n",
       "Gender                    0                  0   \n",
       "\n",
       "                            IntensityAverageWeakAndPositive          Case  \\\n",
       "Shape.Extent              0                        0.851188  TCGA-02-0003   \n",
       "Shape.MinorMajorAxisRatio 0                        0.862302  TCGA-02-0003   \n",
       "Shape.Solidity            0                        0.869281  TCGA-02-0003   \n",
       "Age (years at diagnosis)  0                        0.842484  TCGA-02-0003   \n",
       "Gender                    0                        0.827589  TCGA-02-0003   \n",
       "\n",
       "                            Grade Age (years at diagnosis) Gender  \\\n",
       "Shape.Extent              0     4                       50      1   \n",
       "Shape.MinorMajorAxisRatio 0     4                       50      1   \n",
       "Shape.Solidity            0     4                       50      1   \n",
       "Age (years at diagnosis)  0     4                       50      1   \n",
       "Gender                    0     4                       50      1   \n",
       "\n",
       "                            Survival (months) Vital status (1=dead)  \\\n",
       "Shape.Extent              0           4.73111                     1   \n",
       "Shape.MinorMajorAxisRatio 0           4.73111                     1   \n",
       "Shape.Solidity            0           4.73111                     1   \n",
       "Age (years at diagnosis)  0           4.73111                     1   \n",
       "Gender                    0           4.73111                     1   \n",
       "\n",
       "                            MGMT promoter status  \n",
       "Shape.Extent              0                    0  \n",
       "Shape.MinorMajorAxisRatio 0                    0  \n",
       "Shape.Solidity            0                    0  \n",
       "Age (years at diagnosis)  0                    0  \n",
       "Gender                    0                    0  \n",
       "\n",
       "[5 rows x 28 columns]"
      ]
     },
     "execution_count": 7,
     "metadata": {},
     "output_type": "execute_result"
    }
   ],
   "source": [
    "d.tail()"
   ]
  },
  {
   "cell_type": "code",
   "execution_count": 8,
   "metadata": {},
   "outputs": [],
   "source": [
    "gbm_data = pd.concat(ar)"
   ]
  },
  {
   "cell_type": "code",
   "execution_count": 9,
   "metadata": {},
   "outputs": [],
   "source": [
    "lgg_data = lgg_data.loc[:,~lgg_data.columns.duplicated()]"
   ]
  },
  {
   "cell_type": "code",
   "execution_count": 10,
   "metadata": {},
   "outputs": [
    {
     "data": {
      "text/plain": [
       "(8835, 18)"
      ]
     },
     "execution_count": 10,
     "metadata": {},
     "output_type": "execute_result"
    }
   ],
   "source": [
    "gbm_data.shape"
   ]
  },
  {
   "cell_type": "code",
   "execution_count": 11,
   "metadata": {},
   "outputs": [
    {
     "name": "stdout",
     "output_type": "stream",
     "text": [
      "GBM shape:(8835, 19)LGG shape:(7154, 19)All shape:(15989, 19)\n"
     ]
    }
   ],
   "source": [
    "gbm_data['IS_GBM'] = 1\n",
    "lgg_data['IS_GBM'] = 0\n",
    "\n",
    "data =  pd.concat([gbm_data, lgg_data])\n",
    "\n",
    "print('GBM shape:' + str(gbm_data.shape) + 'LGG shape:' + str(lgg_data.shape) + 'All shape:' + str(data.shape))"
   ]
  },
  {
   "cell_type": "code",
   "execution_count": 12,
   "metadata": {},
   "outputs": [
    {
     "data": {
      "text/plain": [
       "Index([ u'Age (years at diagnosis)',                      u'Case',\n",
       "                          u'Gender',                     u'Grade',\n",
       "                              u'ID',                    u'IS_GBM',\n",
       "            u'MGMT promoter status',         u'Shape.Circularity',\n",
       "              u'Shape.Eccentricity',  u'Shape.EquivalentDiameter',\n",
       "                    u'Shape.Extent', u'Shape.MinorMajorAxisRatio',\n",
       "                  u'Shape.Solidity',                 u'Size.Area',\n",
       "            u'Size.MajorAxisLength',      u'Size.MinorAxisLength',\n",
       "                  u'Size.Perimeter',         u'Survival (months)',\n",
       "           u'Vital status (1=dead)'],\n",
       "      dtype='object')"
      ]
     },
     "execution_count": 12,
     "metadata": {},
     "output_type": "execute_result"
    }
   ],
   "source": [
    "data.columns"
   ]
  },
  {
   "cell_type": "code",
   "execution_count": 13,
   "metadata": {},
   "outputs": [],
   "source": [
    "X = data[['Size.Area', 'Size.MajorAxisLength', 'Size.MinorAxisLength',\\\n",
    "         'Size.Perimeter',  'Shape.Circularity', 'Shape.Eccentricity',\\\n",
    "        'Shape.EquivalentDiameter', 'Shape.Extent', 'Shape.MinorMajorAxisRatio',\\\n",
    "        'Shape.Solidity', 'Age (years at diagnosis)', 'Gender']]"
   ]
  },
  {
   "cell_type": "code",
   "execution_count": 14,
   "metadata": {},
   "outputs": [
    {
     "data": {
      "text/plain": [
       "(15989, 12)"
      ]
     },
     "execution_count": 14,
     "metadata": {},
     "output_type": "execute_result"
    }
   ],
   "source": [
    "X.shape"
   ]
  },
  {
   "cell_type": "code",
   "execution_count": 15,
   "metadata": {},
   "outputs": [
    {
     "name": "stderr",
     "output_type": "stream",
     "text": [
      "/home/shared/anaconda3/envs/python2/lib/python2.7/site-packages/sklearn/utils/validation.py:578: DataConversionWarning: A column-vector y was passed when a 1d array was expected. Please change the shape of y to (n_samples, ), for example using ravel().\n",
      "  y = column_or_1d(y, warn=True)\n"
     ]
    },
    {
     "name": "stdout",
     "output_type": "stream",
     "text": [
      "(0.8613716906399833, 'predicting tumor type, with x_train size', 11192)\n"
     ]
    },
    {
     "ename": "NameError",
     "evalue": "name 'plt' is not defined",
     "output_type": "error",
     "traceback": [
      "\u001b[0;31m---------------------------------------------------------------------------\u001b[0m",
      "\u001b[0;31mNameError\u001b[0m                                 Traceback (most recent call last)",
      "\u001b[0;32m<ipython-input-15-66a939bf88ca>\u001b[0m in \u001b[0;36m<module>\u001b[0;34m()\u001b[0m\n\u001b[1;32m     15\u001b[0m \u001b[0mfpr\u001b[0m\u001b[0;34m,\u001b[0m \u001b[0mtpr\u001b[0m\u001b[0;34m,\u001b[0m \u001b[0m_\u001b[0m \u001b[0;34m=\u001b[0m \u001b[0mroc_curve\u001b[0m\u001b[0;34m(\u001b[0m\u001b[0my_test\u001b[0m\u001b[0;34m,\u001b[0m  \u001b[0my_pred_proba\u001b[0m\u001b[0;34m)\u001b[0m\u001b[0;34m\u001b[0m\u001b[0m\n\u001b[1;32m     16\u001b[0m \u001b[0mauc\u001b[0m \u001b[0;34m=\u001b[0m \u001b[0mroc_auc_score\u001b[0m\u001b[0;34m(\u001b[0m\u001b[0my_test\u001b[0m\u001b[0;34m,\u001b[0m \u001b[0my_pred_proba\u001b[0m\u001b[0;34m)\u001b[0m\u001b[0;34m\u001b[0m\u001b[0m\n\u001b[0;32m---> 17\u001b[0;31m \u001b[0mplt\u001b[0m\u001b[0;34m.\u001b[0m\u001b[0mplot\u001b[0m\u001b[0;34m(\u001b[0m\u001b[0mfpr\u001b[0m\u001b[0;34m,\u001b[0m\u001b[0mtpr\u001b[0m\u001b[0;34m,\u001b[0m\u001b[0mlabel\u001b[0m\u001b[0;34m=\u001b[0m\u001b[0;34m\"data 1, auc=\"\u001b[0m\u001b[0;34m+\u001b[0m\u001b[0mstr\u001b[0m\u001b[0;34m(\u001b[0m\u001b[0mauc\u001b[0m\u001b[0;34m)\u001b[0m\u001b[0;34m)\u001b[0m\u001b[0;34m\u001b[0m\u001b[0m\n\u001b[0m\u001b[1;32m     18\u001b[0m \u001b[0mplt\u001b[0m\u001b[0;34m.\u001b[0m\u001b[0mplot\u001b[0m\u001b[0;34m(\u001b[0m\u001b[0;34m[\u001b[0m\u001b[0;36m0\u001b[0m\u001b[0;34m,\u001b[0m \u001b[0;36m1\u001b[0m\u001b[0;34m]\u001b[0m\u001b[0;34m,\u001b[0m \u001b[0;34m[\u001b[0m\u001b[0;36m0\u001b[0m\u001b[0;34m,\u001b[0m \u001b[0;36m1\u001b[0m\u001b[0;34m]\u001b[0m\u001b[0;34m,\u001b[0m \u001b[0mcolor\u001b[0m\u001b[0;34m=\u001b[0m\u001b[0;34m'red'\u001b[0m\u001b[0;34m,\u001b[0m \u001b[0mlw\u001b[0m\u001b[0;34m=\u001b[0m\u001b[0;36m2\u001b[0m\u001b[0;34m,\u001b[0m \u001b[0mlinestyle\u001b[0m\u001b[0;34m=\u001b[0m\u001b[0;34m'--'\u001b[0m\u001b[0;34m)\u001b[0m\u001b[0;34m\u001b[0m\u001b[0m\n\u001b[1;32m     19\u001b[0m \u001b[0mplt\u001b[0m\u001b[0;34m.\u001b[0m\u001b[0mlegend\u001b[0m\u001b[0;34m(\u001b[0m\u001b[0mloc\u001b[0m\u001b[0;34m=\u001b[0m\u001b[0;36m4\u001b[0m\u001b[0;34m)\u001b[0m\u001b[0;34m\u001b[0m\u001b[0m\n",
      "\u001b[0;31mNameError\u001b[0m: name 'plt' is not defined"
     ]
    }
   ],
   "source": [
    "from sklearn.model_selection import train_test_split\n",
    "from sklearn.linear_model import LogisticRegression, LinearRegression\n",
    "y = data[['IS_GBM']]\n",
    "X = X.fillna(-1)\n",
    "\n",
    "x_train, x_test, y_train, y_test = train_test_split(X, y, test_size=0.3)\n",
    "\n",
    "lr = LogisticRegression()\n",
    "lr.fit(x_train, y_train)\n",
    "#predictions_type = lr.predict(x_test)\n",
    "score = lr.score(x_test, y_test)\n",
    "print(score,\"predicting tumor type, with x_train size\",len(x_train))\n",
    "from sklearn.metrics import confusion_matrix, roc_curve, roc_auc_score\n",
    "y_pred_proba = lr.predict_proba(x_test)[::,1]\n",
    "fpr, tpr, _ = roc_curve(y_test,  y_pred_proba)\n",
    "auc = roc_auc_score(y_test, y_pred_proba)\n",
    "plt.plot(fpr,tpr,label=\"data 1, auc=\"+str(auc))\n",
    "plt.plot([0, 1], [0, 1], color='red', lw=2, linestyle='--')\n",
    "plt.legend(loc=4)\n",
    "plt.title(\"ROC Curve predicting tumor type\")\n",
    "plt.show()"
   ]
  },
  {
   "cell_type": "code",
   "execution_count": 24,
   "metadata": {},
   "outputs": [
    {
     "name": "stdout",
     "output_type": "stream",
     "text": [
      "(0.22239786317761256, 'predicting survival, with x_train size', 11192)\n"
     ]
    },
    {
     "ename": "AttributeError",
     "evalue": "'LinearRegression' object has no attribute 'predict_proba'",
     "output_type": "error",
     "traceback": [
      "\u001b[0;31m---------------------------------------------------------------------------\u001b[0m",
      "\u001b[0;31mAttributeError\u001b[0m                            Traceback (most recent call last)",
      "\u001b[0;32m<ipython-input-24-03c114763a6e>\u001b[0m in \u001b[0;36m<module>\u001b[0;34m()\u001b[0m\n\u001b[1;32m      9\u001b[0m \u001b[0;32mprint\u001b[0m\u001b[0;34m(\u001b[0m\u001b[0mscore\u001b[0m\u001b[0;34m,\u001b[0m\u001b[0;34m\"predicting survival, with x_train size\"\u001b[0m\u001b[0;34m,\u001b[0m\u001b[0mlen\u001b[0m\u001b[0;34m(\u001b[0m\u001b[0mx_train\u001b[0m\u001b[0;34m)\u001b[0m\u001b[0;34m)\u001b[0m\u001b[0;34m\u001b[0m\u001b[0m\n\u001b[1;32m     10\u001b[0m \u001b[0;32mfrom\u001b[0m \u001b[0msklearn\u001b[0m\u001b[0;34m.\u001b[0m\u001b[0mmetrics\u001b[0m \u001b[0;32mimport\u001b[0m \u001b[0mconfusion_matrix\u001b[0m\u001b[0;34m,\u001b[0m \u001b[0mroc_curve\u001b[0m\u001b[0;34m,\u001b[0m \u001b[0mroc_auc_score\u001b[0m\u001b[0;34m\u001b[0m\u001b[0m\n\u001b[0;32m---> 11\u001b[0;31m \u001b[0my_pred_proba\u001b[0m \u001b[0;34m=\u001b[0m \u001b[0mlr\u001b[0m\u001b[0;34m.\u001b[0m\u001b[0mpredict_proba\u001b[0m\u001b[0;34m(\u001b[0m\u001b[0mx_test\u001b[0m\u001b[0;34m)\u001b[0m\u001b[0;34m[\u001b[0m\u001b[0;34m:\u001b[0m\u001b[0;34m:\u001b[0m\u001b[0;34m,\u001b[0m\u001b[0;36m1\u001b[0m\u001b[0;34m]\u001b[0m\u001b[0;34m\u001b[0m\u001b[0m\n\u001b[0m\u001b[1;32m     12\u001b[0m \u001b[0mfpr\u001b[0m\u001b[0;34m,\u001b[0m \u001b[0mtpr\u001b[0m\u001b[0;34m,\u001b[0m \u001b[0m_\u001b[0m \u001b[0;34m=\u001b[0m \u001b[0mroc_curve\u001b[0m\u001b[0;34m(\u001b[0m\u001b[0my_test\u001b[0m\u001b[0;34m,\u001b[0m  \u001b[0my_pred_proba\u001b[0m\u001b[0;34m)\u001b[0m\u001b[0;34m\u001b[0m\u001b[0m\n\u001b[1;32m     13\u001b[0m \u001b[0mauc\u001b[0m \u001b[0;34m=\u001b[0m \u001b[0mroc_auc_score\u001b[0m\u001b[0;34m(\u001b[0m\u001b[0my_test\u001b[0m\u001b[0;34m,\u001b[0m \u001b[0my_pred_proba\u001b[0m\u001b[0;34m)\u001b[0m\u001b[0;34m\u001b[0m\u001b[0m\n",
      "\u001b[0;31mAttributeError\u001b[0m: 'LinearRegression' object has no attribute 'predict_proba'"
     ]
    }
   ],
   "source": [
    "y = data[['Survival (months)']]\n",
    "X = X.fillna(-1)\n",
    "y = y.fillna(60)\n",
    "x_train, x_test, y_train, y_test = train_test_split(X, y, test_size=0.3)\n",
    "lr = LinearRegression()\n",
    "lr.fit(x_train, y_train)\n",
    "#predictions_type = lr.predict(x_test)\n",
    "score = lr.score(x_test, y_test)\n",
    "print(score,\"predicting survival, with x_train size\",len(x_train))\n",
    "from sklearn.metrics import confusion_matrix, roc_curve, roc_auc_score\n",
    "y_pred_proba = lr.predict_proba(x_test)[::,1]\n",
    "fpr, tpr, _ = roc_curve(y_test,  y_pred_proba)\n",
    "auc = roc_auc_score(y_test, y_pred_proba)\n",
    "plt.plot(fpr,tpr,label=\"data 1, auc=\"+str(auc))\n",
    "plt.plot([0, 1], [0, 1], color='red', lw=2, linestyle='--')\n",
    "plt.legend(loc=4)\n",
    "plt.title(\"ROC Curve predicting tumor type\")\n",
    "plt.show()"
   ]
  },
  {
   "cell_type": "code",
   "execution_count": 28,
   "metadata": {},
   "outputs": [
    {
     "name": "stdout",
     "output_type": "stream",
     "text": [
      "(0.7279549718574109, 'predicting survival, with x_train size', 12791)\n"
     ]
    },
    {
     "ename": "ValueError",
     "evalue": "multiclass format is not supported",
     "output_type": "error",
     "traceback": [
      "\u001b[0;31m---------------------------------------------------------------------------\u001b[0m",
      "\u001b[0;31mValueError\u001b[0m                                Traceback (most recent call last)",
      "\u001b[0;32m<ipython-input-28-f8ec5b848f92>\u001b[0m in \u001b[0;36m<module>\u001b[0;34m()\u001b[0m\n\u001b[1;32m     10\u001b[0m \u001b[0;32mfrom\u001b[0m \u001b[0msklearn\u001b[0m\u001b[0;34m.\u001b[0m\u001b[0mmetrics\u001b[0m \u001b[0;32mimport\u001b[0m \u001b[0mconfusion_matrix\u001b[0m\u001b[0;34m,\u001b[0m \u001b[0mroc_curve\u001b[0m\u001b[0;34m,\u001b[0m \u001b[0mroc_auc_score\u001b[0m\u001b[0;34m\u001b[0m\u001b[0m\n\u001b[1;32m     11\u001b[0m \u001b[0my_pred_proba\u001b[0m \u001b[0;34m=\u001b[0m \u001b[0mlr\u001b[0m\u001b[0;34m.\u001b[0m\u001b[0mpredict_proba\u001b[0m\u001b[0;34m(\u001b[0m\u001b[0mx_test\u001b[0m\u001b[0;34m)\u001b[0m\u001b[0;34m[\u001b[0m\u001b[0;34m:\u001b[0m\u001b[0;34m:\u001b[0m\u001b[0;34m,\u001b[0m\u001b[0;36m1\u001b[0m\u001b[0;34m]\u001b[0m\u001b[0;34m\u001b[0m\u001b[0m\n\u001b[0;32m---> 12\u001b[0;31m \u001b[0mfpr\u001b[0m\u001b[0;34m,\u001b[0m \u001b[0mtpr\u001b[0m\u001b[0;34m,\u001b[0m \u001b[0m_\u001b[0m \u001b[0;34m=\u001b[0m \u001b[0mroc_curve\u001b[0m\u001b[0;34m(\u001b[0m\u001b[0my_test\u001b[0m\u001b[0;34m,\u001b[0m  \u001b[0my_pred_proba\u001b[0m\u001b[0;34m)\u001b[0m\u001b[0;34m\u001b[0m\u001b[0m\n\u001b[0m\u001b[1;32m     13\u001b[0m \u001b[0mauc\u001b[0m \u001b[0;34m=\u001b[0m \u001b[0mroc_auc_score\u001b[0m\u001b[0;34m(\u001b[0m\u001b[0my_test\u001b[0m\u001b[0;34m,\u001b[0m \u001b[0my_pred_proba\u001b[0m\u001b[0;34m)\u001b[0m\u001b[0;34m\u001b[0m\u001b[0m\n\u001b[1;32m     14\u001b[0m \u001b[0mplt\u001b[0m\u001b[0;34m.\u001b[0m\u001b[0mplot\u001b[0m\u001b[0;34m(\u001b[0m\u001b[0mfpr\u001b[0m\u001b[0;34m,\u001b[0m\u001b[0mtpr\u001b[0m\u001b[0;34m,\u001b[0m\u001b[0mlabel\u001b[0m\u001b[0;34m=\u001b[0m\u001b[0;34m\"data 1, auc=\"\u001b[0m\u001b[0;34m+\u001b[0m\u001b[0mstr\u001b[0m\u001b[0;34m(\u001b[0m\u001b[0mauc\u001b[0m\u001b[0;34m)\u001b[0m\u001b[0;34m)\u001b[0m\u001b[0;34m\u001b[0m\u001b[0m\n",
      "\u001b[0;32m/home/shared/anaconda3/envs/python2/lib/python2.7/site-packages/sklearn/metrics/ranking.pyc\u001b[0m in \u001b[0;36mroc_curve\u001b[0;34m(y_true, y_score, pos_label, sample_weight, drop_intermediate)\u001b[0m\n\u001b[1;32m    532\u001b[0m     \"\"\"\n\u001b[1;32m    533\u001b[0m     fps, tps, thresholds = _binary_clf_curve(\n\u001b[0;32m--> 534\u001b[0;31m         y_true, y_score, pos_label=pos_label, sample_weight=sample_weight)\n\u001b[0m\u001b[1;32m    535\u001b[0m \u001b[0;34m\u001b[0m\u001b[0m\n\u001b[1;32m    536\u001b[0m     \u001b[0;31m# Attempt to drop thresholds corresponding to points in between and\u001b[0m\u001b[0;34m\u001b[0m\u001b[0;34m\u001b[0m\u001b[0m\n",
      "\u001b[0;32m/home/shared/anaconda3/envs/python2/lib/python2.7/site-packages/sklearn/metrics/ranking.pyc\u001b[0m in \u001b[0;36m_binary_clf_curve\u001b[0;34m(y_true, y_score, pos_label, sample_weight)\u001b[0m\n\u001b[1;32m    316\u001b[0m     if not (y_type == \"binary\" or\n\u001b[1;32m    317\u001b[0m             (y_type == \"multiclass\" and pos_label is not None)):\n\u001b[0;32m--> 318\u001b[0;31m         \u001b[0;32mraise\u001b[0m \u001b[0mValueError\u001b[0m\u001b[0;34m(\u001b[0m\u001b[0;34m\"{0} format is not supported\"\u001b[0m\u001b[0;34m.\u001b[0m\u001b[0mformat\u001b[0m\u001b[0;34m(\u001b[0m\u001b[0my_type\u001b[0m\u001b[0;34m)\u001b[0m\u001b[0;34m)\u001b[0m\u001b[0;34m\u001b[0m\u001b[0m\n\u001b[0m\u001b[1;32m    319\u001b[0m \u001b[0;34m\u001b[0m\u001b[0m\n\u001b[1;32m    320\u001b[0m     \u001b[0mcheck_consistent_length\u001b[0m\u001b[0;34m(\u001b[0m\u001b[0my_true\u001b[0m\u001b[0;34m,\u001b[0m \u001b[0my_score\u001b[0m\u001b[0;34m,\u001b[0m \u001b[0msample_weight\u001b[0m\u001b[0;34m)\u001b[0m\u001b[0;34m\u001b[0m\u001b[0m\n",
      "\u001b[0;31mValueError\u001b[0m: multiclass format is not supported"
     ]
    }
   ],
   "source": [
    "y = data[['Grade']]\n",
    "X = X.fillna(1)\n",
    "y = y.fillna(1000)\n",
    "x_train, x_test, y_train, y_test = train_test_split(X, y, test_size=0.2)\n",
    "lr = LogisticRegression()\n",
    "lr.fit(x_train, y_train)\n",
    "#predictions_type = lr.predict(x_test)\n",
    "score = lr.score(x_test, y_test)\n",
    "print(score,\"predicting survival, with x_train size\",len(x_train))\n",
    "from sklearn.metrics import confusion_matrix, roc_curve, roc_auc_score\n",
    "y_pred_proba = lr.predict_proba(x_test)[::,1]\n",
    "fpr, tpr, _ = roc_curve(y_test,  y_pred_proba)\n",
    "auc = roc_auc_score(y_test, y_pred_proba)\n",
    "plt.plot(fpr,tpr,label=\"data 1, auc=\"+str(auc))\n",
    "plt.plot([0, 1], [0, 1], color='red', lw=2, linestyle='--')\n",
    "plt.legend(loc=4)\n",
    "plt.title(\"ROC Curve predicting tumor type\")\n",
    "plt.show()"
   ]
  },
  {
   "cell_type": "code",
   "execution_count": null,
   "metadata": {},
   "outputs": [],
   "source": [
    "grades = data[['Grade']].fillna(-1).as_matrix()\n",
    "\n",
    "l = grades.squeeze().tolist()\n",
    "import collections\n",
    "collections.Counter(l)"
   ]
  },
  {
   "cell_type": "code",
   "execution_count": null,
   "metadata": {},
   "outputs": [],
   "source": [
    "import os\n",
    "import matplotlib.pyplot as plt\n",
    "import numpy as np\n",
    "def get_img(tumor_type, idx, res=256):\n",
    "    im_dir = '../tcga/'+str(res)+'/train/' + tumor_type + '/'\n",
    "    imgs = [im_dir + imname for imname in os.listdir(im_dir)]\n",
    "    img = plt.imread(imgs[idx])\n",
    "    mask = img < 1.0\n",
    "    # Coordinates of non-black pixels.\n",
    "    coords = np.argwhere(mask)\n",
    "\n",
    "    # Bounding box of non-black pixels.\n",
    "    x0, y0, intensity = coords.min(axis=0)\n",
    "    x1, y1, intensity = coords.max(axis=0) + 1   # slices are exclusive at the top\n",
    "\n",
    "    # Get the contents of the bounding box.\n",
    "    cropped = img[x0:x1, y0:y1]\n",
    "    return cropped"
   ]
  },
  {
   "cell_type": "code",
   "execution_count": null,
   "metadata": {},
   "outputs": [],
   "source": [
    "a = get_img('gbm', 20)\n",
    "mask = a < 1.0\n",
    "# Coordinates of non-black pixels.\n",
    "coords = np.argwhere(mask)\n",
    "\n",
    "# Bounding box of non-black pixels.\n",
    "x0, y0, intensity = coords.min(axis=0)\n",
    "x1, y1, intensity = coords.max(axis=0) + 1   # slices are exclusive at the top\n",
    "\n",
    "# Get the contents of the bounding box.\n",
    "cropped = a[x0:x1, y0:y1]\n",
    "plt.imshow(cropped)"
   ]
  },
  {
   "cell_type": "code",
   "execution_count": 259,
   "metadata": {},
   "outputs": [
    {
     "data": {
      "text/plain": [
       "<matplotlib.image.AxesImage at 0x7f154e9f3210>"
      ]
     },
     "execution_count": 259,
     "metadata": {},
     "output_type": "execute_result"
    },
    {
     "data": {
      "image/png": "[encoded data removed]",
      "text/plain": [
       "<matplotlib.figure.Figure at 0x7f154fd8b1d0>"
      ]
     },
     "metadata": {},
     "output_type": "display_data"
    }
   ],
   "source": [
    "plt.figure(figsize=(8,8))\n",
    "plt.subplot(2,1,1)\n",
    "plt.title('GBM Slide')\n",
    "plt.imshow(get_img('gbm',20))\n",
    "plt.subplot(2,1,2)\n",
    "plt.title('LGG Slide')\n",
    "plt.imshow(get_img('lgg',20))"
   ]
  },
  {
   "cell_type": "code",
   "execution_count": 260,
   "metadata": {},
   "outputs": [],
   "source": [
    "lgg = pd.read_pickle('../tcga/dense_features/lgg_features_v1.pkl')"
   ]
  },
  {
   "cell_type": "code",
   "execution_count": 261,
   "metadata": {},
   "outputs": [
    {
     "data": {
      "text/html": [
       "<div>\n",
       "<style scoped>\n",
       "    .dataframe tbody tr th:only-of-type {\n",
       "        vertical-align: middle;\n",
       "    }\n",
       "\n",
       "    .dataframe tbody tr th {\n",
       "        vertical-align: top;\n",
       "    }\n",
       "\n",
       "    .dataframe thead th {\n",
       "        text-align: right;\n",
       "    }\n",
       "</style>\n",
       "<table border=\"1\" class=\"dataframe\">\n",
       "  <thead>\n",
       "    <tr style=\"text-align: right;\">\n",
       "      <th></th>\n",
       "      <th>Size.Area</th>\n",
       "      <th>Size.MajorAxisLength</th>\n",
       "      <th>Size.MinorAxisLength</th>\n",
       "      <th>Size.Perimeter</th>\n",
       "      <th>Shape.Circularity</th>\n",
       "      <th>Shape.Eccentricity</th>\n",
       "      <th>Shape.EquivalentDiameter</th>\n",
       "      <th>Shape.Extent</th>\n",
       "      <th>Shape.MinorMajorAxisRatio</th>\n",
       "      <th>Shape.Solidity</th>\n",
       "      <th>Case</th>\n",
       "      <th>ID</th>\n",
       "      <th>Case</th>\n",
       "      <th>Grade</th>\n",
       "      <th>Age (years at diagnosis)</th>\n",
       "      <th>Gender</th>\n",
       "      <th>Survival (months)</th>\n",
       "      <th>Vital status (1=dead)</th>\n",
       "      <th>MGMT promoter status</th>\n",
       "      <th>TYPE</th>\n",
       "    </tr>\n",
       "  </thead>\n",
       "  <tbody>\n",
       "    <tr>\n",
       "      <th>0</th>\n",
       "      <td>18.7026</td>\n",
       "      <td>11.0709</td>\n",
       "      <td>4.48802</td>\n",
       "      <td>14.7343</td>\n",
       "      <td>2.04022</td>\n",
       "      <td>0.837254</td>\n",
       "      <td>4.60687</td>\n",
       "      <td>0.476033</td>\n",
       "      <td>0.488972</td>\n",
       "      <td>0.689054</td>\n",
       "      <td>TCGA-HT-7881</td>\n",
       "      <td>TCGA-HT-78818</td>\n",
       "      <td>TCGA-HT-7881</td>\n",
       "      <td>2</td>\n",
       "      <td>38</td>\n",
       "      <td>1</td>\n",
       "      <td>2.92409</td>\n",
       "      <td>0</td>\n",
       "      <td>1</td>\n",
       "      <td>0</td>\n",
       "    </tr>\n",
       "    <tr>\n",
       "      <th>0</th>\n",
       "      <td>309</td>\n",
       "      <td>42.3083</td>\n",
       "      <td>23.6038</td>\n",
       "      <td>185.953</td>\n",
       "      <td>0.112295</td>\n",
       "      <td>0.829908</td>\n",
       "      <td>19.8351</td>\n",
       "      <td>0.201961</td>\n",
       "      <td>0.5579</td>\n",
       "      <td>0.325263</td>\n",
       "      <td>TCGA-HT-7860</td>\n",
       "      <td>TCGA-HT-78606</td>\n",
       "      <td>TCGA-HT-7860</td>\n",
       "      <td>3</td>\n",
       "      <td>60</td>\n",
       "      <td>0</td>\n",
       "      <td>0.492824</td>\n",
       "      <td>0</td>\n",
       "      <td>1</td>\n",
       "      <td>0</td>\n",
       "    </tr>\n",
       "    <tr>\n",
       "      <th>0</th>\n",
       "      <td>49.3051</td>\n",
       "      <td>19.0428</td>\n",
       "      <td>9.11525</td>\n",
       "      <td>32.2708</td>\n",
       "      <td>2.00433</td>\n",
       "      <td>0.824781</td>\n",
       "      <td>7.10002</td>\n",
       "      <td>0.295501</td>\n",
       "      <td>0.508077</td>\n",
       "      <td>0.455275</td>\n",
       "      <td>TCGA-HT-7856</td>\n",
       "      <td>TCGA-HT-78564</td>\n",
       "      <td>TCGA-HT-7856</td>\n",
       "      <td>3</td>\n",
       "      <td>35</td>\n",
       "      <td>1</td>\n",
       "      <td>39.0645</td>\n",
       "      <td>0</td>\n",
       "      <td>1</td>\n",
       "      <td>0</td>\n",
       "    </tr>\n",
       "    <tr>\n",
       "      <th>0</th>\n",
       "      <td>241.715</td>\n",
       "      <td>33.7481</td>\n",
       "      <td>22.668</td>\n",
       "      <td>151.829</td>\n",
       "      <td>0.227431</td>\n",
       "      <td>0.706088</td>\n",
       "      <td>16.6412</td>\n",
       "      <td>0.220376</td>\n",
       "      <td>0.676223</td>\n",
       "      <td>0.317942</td>\n",
       "      <td>TCGA-QH-A6XC</td>\n",
       "      <td>TCGA-QH-A6XC9</td>\n",
       "      <td>TCGA-QH-A6XC</td>\n",
       "      <td>3</td>\n",
       "      <td>48</td>\n",
       "      <td>1</td>\n",
       "      <td>5.0268</td>\n",
       "      <td>0</td>\n",
       "      <td>1</td>\n",
       "      <td>0</td>\n",
       "    </tr>\n",
       "    <tr>\n",
       "      <th>0</th>\n",
       "      <td>65.1994</td>\n",
       "      <td>20.4206</td>\n",
       "      <td>9.70508</td>\n",
       "      <td>40.1092</td>\n",
       "      <td>1.33623</td>\n",
       "      <td>0.825995</td>\n",
       "      <td>8.14706</td>\n",
       "      <td>0.304788</td>\n",
       "      <td>0.507402</td>\n",
       "      <td>0.465548</td>\n",
       "      <td>TCGA-W9-A837</td>\n",
       "      <td>TCGA-W9-A8379</td>\n",
       "      <td>TCGA-W9-A837</td>\n",
       "      <td>2</td>\n",
       "      <td>47</td>\n",
       "      <td>1</td>\n",
       "      <td>45.0441</td>\n",
       "      <td>0</td>\n",
       "      <td>1</td>\n",
       "      <td>0</td>\n",
       "    </tr>\n",
       "  </tbody>\n",
       "</table>\n",
       "</div>"
      ],
      "text/plain": [
       "  Size.Area Size.MajorAxisLength Size.MinorAxisLength Size.Perimeter  \\\n",
       "0   18.7026              11.0709              4.48802        14.7343   \n",
       "0       309              42.3083              23.6038        185.953   \n",
       "0   49.3051              19.0428              9.11525        32.2708   \n",
       "0   241.715              33.7481               22.668        151.829   \n",
       "0   65.1994              20.4206              9.70508        40.1092   \n",
       "\n",
       "  Shape.Circularity Shape.Eccentricity Shape.EquivalentDiameter Shape.Extent  \\\n",
       "0           2.04022           0.837254                  4.60687     0.476033   \n",
       "0          0.112295           0.829908                  19.8351     0.201961   \n",
       "0           2.00433           0.824781                  7.10002     0.295501   \n",
       "0          0.227431           0.706088                  16.6412     0.220376   \n",
       "0           1.33623           0.825995                  8.14706     0.304788   \n",
       "\n",
       "  Shape.MinorMajorAxisRatio Shape.Solidity          Case             ID  \\\n",
       "0                  0.488972       0.689054  TCGA-HT-7881  TCGA-HT-78818   \n",
       "0                    0.5579       0.325263  TCGA-HT-7860  TCGA-HT-78606   \n",
       "0                  0.508077       0.455275  TCGA-HT-7856  TCGA-HT-78564   \n",
       "0                  0.676223       0.317942  TCGA-QH-A6XC  TCGA-QH-A6XC9   \n",
       "0                  0.507402       0.465548  TCGA-W9-A837  TCGA-W9-A8379   \n",
       "\n",
       "           Case Grade Age (years at diagnosis) Gender Survival (months)  \\\n",
       "0  TCGA-HT-7881     2                       38      1           2.92409   \n",
       "0  TCGA-HT-7860     3                       60      0          0.492824   \n",
       "0  TCGA-HT-7856     3                       35      1           39.0645   \n",
       "0  TCGA-QH-A6XC     3                       48      1            5.0268   \n",
       "0  TCGA-W9-A837     2                       47      1           45.0441   \n",
       "\n",
       "  Vital status (1=dead) MGMT promoter status  TYPE  \n",
       "0                     0                    1     0  \n",
       "0                     0                    1     0  \n",
       "0                     0                    1     0  \n",
       "0                     0                    1     0  \n",
       "0                     0                    1     0  "
      ]
     },
     "execution_count": 261,
     "metadata": {},
     "output_type": "execute_result"
    }
   ],
   "source": [
    "lgg['TYPE'] = 0\n",
    "#gbm['TYPE'] = 1\n",
    "lgg.head()"
   ]
  },
  {
   "cell_type": "code",
   "execution_count": null,
   "metadata": {},
   "outputs": [],
   "source": []
  }
 ],
 "metadata": {
  "kernelspec": {
   "display_name": "Python 2",
   "language": "python",
   "name": "python2"
  },
  "language_info": {
   "codemirror_mode": {
    "name": "ipython",
    "version": 2
   },
   "file_extension": ".py",
   "mimetype": "text/x-python",
   "name": "python",
   "nbconvert_exporter": "python",
   "pygments_lexer": "ipython2",
   "version": "2.7.14"
  }
 },
 "nbformat": 4,
 "nbformat_minor": 2
}
